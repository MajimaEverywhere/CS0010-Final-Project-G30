{
 "cells": [
  {
   "cell_type": "markdown",
   "metadata": {},
   "source": [
    "# Final Project: G30's Findings and Conclusions"
   ]
  },
  {
   "cell_type": "markdown",
   "metadata": {},
   "source": [
    "We were only able to get a group of 2 consisting of members as our 3rd ended up being in another sectino due to miscommunication.\n",
    "As a result, we worked with two primary datasets, with a third being utilized more as supplimentary material.\n",
    "The three datasets used were:"
   ]
  },
  {
   "cell_type": "markdown",
   "metadata": {},
   "source": [
    "Non traffic citations: A dataset consisting of non-traffic related offenses found within Pittsburgh"
   ]
  },
  {
   "cell_type": "markdown",
   "metadata": {},
   "source": [
    "# 2nd DATASET GOES HERE"
   ]
  },
  {
   "cell_type": "markdown",
   "metadata": {},
   "source": [
    "City traffic signs: a list containing most (if not all) traffic signs found in each neighborhood of Pittsburgh."
   ]
  },
  {
   "cell_type": "markdown",
   "metadata": {},
   "source": [
    "# Non-traffic citation findings (Justin's Section)"
   ]
  },
  {
   "cell_type": "markdown",
   "metadata": {},
   "source": [
    "In the code given, we that the district with the most offenses (by a lot) was South Side Flats. A simple sort by ascending line showed us 2961 individual offenses\n",
    "The second closest was the Central Business District with 1358 offenses.\n",
    "\n",
    "While going through the list, I made it my goal to find what are considered \"sillier\" offenses.\n",
    "Rather than going for the grim and depressing, I figured it would be more fun to look into some of the more lighthearted or \"stupid\" offenses\n",
    "Specfically I noted the following codes\n",
    "5506: Public intoxication\n",
    "5505: Public indecency\n",
    "606.16: Urination or defacation in a public area\n",
    "\n",
    "I wanted to find the area with the most of these 3. Of them: South Side Flats, Central Business District, and North Shade showed up the most\n",
    "South Side Flats dominated the list however.\n",
    "All accompanying graphs are found in the jupityr notebook: NonTrafficCitationList.jpynb"
   ]
  },
  {
   "cell_type": "markdown",
   "metadata": {},
   "source": [
    "# "
   ]
  },
  {
   "cell_type": "markdown",
   "metadata": {},
   "source": [
    "# Third dataset, city traffic signs\n",
    "As mentioned before this was a more supplementary dataset used. After non-traffic citations came to a conclusion, a quick sort-by-ascending sort found South Side Flats at the highest again. While not a surprise (given it's size) the amount of signs was interesting.\n",
    "\n",
    "South Side Flats is second to only the Central Business District in stop signs by a large margin.\n",
    "South Side Flats has a massive amount of \"No parking\" signs: around 600, more than double their stop signs"
   ]
  },
  {
   "cell_type": "markdown",
   "metadata": {},
   "source": [
    "# Conclusion: The best Neighborhood to Avoid\n",
    "\n",
    "Given our datasets and the repeated wild nature of South Side Flats, we can conclude that the best neighborhood to avoid would be South Side Flats"
   ]
  },
  {
   "cell_type": "code",
   "execution_count": null,
   "metadata": {},
   "outputs": [],
   "source": []
  }
 ],
 "metadata": {
  "kernelspec": {
   "display_name": "Python 3",
   "language": "python",
   "name": "python3"
  },
  "language_info": {
   "codemirror_mode": {
    "name": "ipython",
    "version": 3
   },
   "file_extension": ".py",
   "mimetype": "text/x-python",
   "name": "python",
   "nbconvert_exporter": "python",
   "pygments_lexer": "ipython3",
   "version": "3.8.3"
  }
 },
 "nbformat": 4,
 "nbformat_minor": 4
}
